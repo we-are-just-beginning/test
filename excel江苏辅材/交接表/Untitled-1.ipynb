{
 "cells": [
  {
   "cell_type": "code",
   "execution_count": 12,
   "metadata": {},
   "outputs": [],
   "source": [
    "import pandas as pd\n",
    "import datetime\n",
    "import xlwings as xw\n",
    "\n",
    "df = pd.read_excel(r'D:\\filedata\\江苏测试\\辅材\\R0221365_江苏移动.xls', sheet_name=[0,1], header=0)\n",
    "# df2 = pd.read_excel(r'D:\\filedata\\江苏测试\\辅材\\R0221365_江苏移动.xls', sheet_name=1, header=0)\n",
    "df1 = df[0]\n",
    "df2 = df[1]"
   ]
  },
  {
   "cell_type": "code",
   "execution_count": 13,
   "metadata": {},
   "outputs": [],
   "source": [
    "regions = df2['城市'].unique().tolist()\n",
    "app = xw.App(visible=False, add_book=False)\n",
    "app.display_alerts = False\n",
    "app.screen_updating = False\n",
    "workbook2 = app.books.open(r'D:\\filedata\\江苏测试\\辅材\\装箱清单-普通卡.xlsx')\n",
    "worksheet3 = workbook2.sheets[0]"
   ]
  },
  {
   "cell_type": "code",
   "execution_count": 14,
   "metadata": {},
   "outputs": [],
   "source": [
    "for region in reversed(regions):\n",
    "    worksheet4 = worksheet3.copy(after=worksheet3, name=region)\n",
    "    # a = df2[df2['城市'] == region]['城市'].values\n",
    "    worksheet4[\"A4\"].options(transpose=True).value = df2[df2['城市'] == region]['城市'].values\n",
    "    # worksheet4[\"G2\"].value = df2[df2['城市'] == region][0,17]\n",
    "    # worksheet4[\"A19\"].value = region\n"
   ]
  },
  {
   "cell_type": "code",
   "execution_count": 15,
   "metadata": {},
   "outputs": [],
   "source": [
    "workbook2.save()\n",
    "workbook2.close()\n",
    "app.quit()"
   ]
  }
 ],
 "metadata": {
  "kernelspec": {
   "display_name": "Python 3.9.7 ('base')",
   "language": "python",
   "name": "python3"
  },
  "language_info": {
   "codemirror_mode": {
    "name": "ipython",
    "version": 3
   },
   "file_extension": ".py",
   "mimetype": "text/x-python",
   "name": "python",
   "nbconvert_exporter": "python",
   "pygments_lexer": "ipython3",
   "version": "3.9.7"
  },
  "orig_nbformat": 4,
  "vscode": {
   "interpreter": {
    "hash": "49cb93f377a7abe7414b7b0f21fb3017538004a126cf690fb524202736b7fb92"
   }
  }
 },
 "nbformat": 4,
 "nbformat_minor": 2
}
