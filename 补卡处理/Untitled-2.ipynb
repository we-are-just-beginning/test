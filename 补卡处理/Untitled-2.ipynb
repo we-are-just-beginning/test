{
 "cells": [
  {
   "cell_type": "code",
   "execution_count": 4,
   "metadata": {},
   "outputs": [],
   "source": [
    "import pandas as pd\n",
    "import os\n",
    "\n",
    "filelist = []\n",
    "df_all = []\n",
    "dir_path = 'D:\\\\filedata\\\\98m25数据\\\\DYn'\n",
    "filenames = os.listdir(dir_path)  # 获得文件夹内所有文件\n",
    "for filename in filenames:\n",
    "    file_type = filename.split('.')[-1]  # 截取后缀\n",
    "    if (file_type == 'MCA') or (file_type == 'mca'):\n",
    "        filelist.append(filename)\n",
    "for file in filelist:\n",
    "    df = pd.read_csv(dir_path + '/' + file, header=0, dtype=object,\n",
    "                             encoding='ANSI') \n",
    "    df_all.append(df)\n",
    "data_all = pd.concat(df_all)\n",
    "\n",
    "df2 = pd.read_csv(r'D:\\filedata\\98m25数据\\DnY.log',sep=' ',\n",
    "                          dtype=str, encoding='utf-8', header=None,names=['ICCID'],usecols=[4])\n",
    "list_iccid = df2.applymap(lambda x: ''.join(\n",
    "                    [x[k] for k in [(i + (-1) ** i) for i in range(len(x))]]))\n",
    "data_filter = []\n",
    "for iccid in list_iccid['ICCID']:\n",
    "    data = data_all[data_all['ICCID'] == iccid]\n",
    "    data_filter.append(data)\n",
    "data_filter_all = pd.concat(data_filter)\n",
    "data_filter_all.to_csv(dir_path + '/' + '补卡.mca',\n",
    "                               index=False, header=True, encoding='ANSI')  # 输出补卡数据"
   ]
  }
 ],
 "metadata": {
  "kernelspec": {
   "display_name": "Python 3.9.7 ('base')",
   "language": "python",
   "name": "python3"
  },
  "language_info": {
   "codemirror_mode": {
    "name": "ipython",
    "version": 3
   },
   "file_extension": ".py",
   "mimetype": "text/x-python",
   "name": "python",
   "nbconvert_exporter": "python",
   "pygments_lexer": "ipython3",
   "version": "3.9.7"
  },
  "orig_nbformat": 4,
  "vscode": {
   "interpreter": {
    "hash": "49cb93f377a7abe7414b7b0f21fb3017538004a126cf690fb524202736b7fb92"
   }
  }
 },
 "nbformat": 4,
 "nbformat_minor": 2
}
